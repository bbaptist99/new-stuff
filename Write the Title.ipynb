{
 "cells": [
  {
   "cell_type": "code",
   "execution_count": 11,
   "metadata": {},
   "outputs": [],
   "source": [
    "#File to write URL title to .txt\n",
    "\n",
    "\n",
    "import requests\n",
    "from bs4 import BeautifulSoup\n",
    "import urllib.request"
   ]
  },
  {
   "cell_type": "code",
   "execution_count": 24,
   "metadata": {},
   "outputs": [],
   "source": [
    "def print_to_text(base_url):\n",
    "    \"\"\"\n",
    "    :param base_url: URL fo the articel to scrape\n",
    "    :return: naked content to text file\n",
    "    \n",
    "    \"\"\"\n",
    "    r = requests.get(base_url)\n",
    "    soup = BeautifulSoup(r.text)\n",
    "    \n",
    "base_url = 'https://www.theatlantic.com/business/archive/2014/08/to-work-better-work-less/375763/'\n",
    "page = urllib.request.urlopen(base_url)\n",
    "soup = BeautifulSoup(page)\n",
    "\n",
    "\n",
    "with open(\"Title.text\",\"w\") as textfile:\n",
    "        textfile.write(soup.title.string)\n",
    "\n",
    "\n",
    "\n",
    "    \n",
    "    "
   ]
  },
  {
   "cell_type": "code",
   "execution_count": null,
   "metadata": {},
   "outputs": [],
   "source": [
    "\n",
    "    "
   ]
  },
  {
   "cell_type": "code",
   "execution_count": null,
   "metadata": {},
   "outputs": [],
   "source": []
  }
 ],
 "metadata": {
  "kernelspec": {
   "display_name": "Python 3",
   "language": "python",
   "name": "python3"
  },
  "language_info": {
   "codemirror_mode": {
    "name": "ipython",
    "version": 3
   },
   "file_extension": ".py",
   "mimetype": "text/x-python",
   "name": "python",
   "nbconvert_exporter": "python",
   "pygments_lexer": "ipython3",
   "version": "3.7.3"
  }
 },
 "nbformat": 4,
 "nbformat_minor": 2
}
