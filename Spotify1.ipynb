{
 "cells": [
  {
   "cell_type": "code",
   "execution_count": null,
   "metadata": {},
   "outputs": [],
   "source": [
    "import os\n",
    "import sys\n",
    "import spotipy\n",
    "import webbrowser\n",
    "import spotipy.util as util\n",
    "\n",
    "os.environ['SPOTIPY_CLIENT_ID']='f96003889cff4f22972c0adbfd069ee4'\n",
    "os.environ['SPOTIPY_CLIENT_SECRET']='2d9eecff0e9647028ce1f318dcda0480'\n",
    "os.environ['SPOTIPY_REDIRECT_URI']='https://google.com'\n",
    "\n",
    "if len(sys.argv) > 1:\n",
    "    username = sys.argv[1]\n",
    "else:\n",
    "    print(\"Usage: %s username\" % (sys.argv[0],))\n",
    "    sys.exit()\n",
    "\n",
    "scope = 'user-library-read'\n",
    "\n",
    "util.prompt_for_user_token(username,scope,client_id='f96003889cff4f22972c0adbfd069ee4',client_secret='2d9eecff0e9647028ce1f318dcda0480',redirect_uri='https://google.com')\n",
    "\n",
    "token = util.prompt_for_user_token(username, scope)\n",
    "\n",
    "if token:\n",
    "    sp = spotipy.Spotify(auth=token)\n",
    "    results = sp.current_user_saved_tracks()\n",
    "    for item in results['items']:\n",
    "        track = item['track']\n",
    "        print(track['name'] + ' - ' + track['artists'][0]['name'])\n",
    "else:\n",
    "    print(\"Can't get token for\" + username)"
   ]
  },
  {
   "cell_type": "code",
   "execution_count": null,
   "metadata": {},
   "outputs": [],
   "source": [
    "# Create spotifyObject\n",
    "spotifyObject = spotipy.Spotify(auth=token)\n",
    "\n",
    "user = spotifyObject.current_user()\n",
    "\n",
    "displayName = user['display_name']\n",
    "followers = user['followers']['total']\n",
    "\n",
    "while True:\n",
    "\n",
    "    print()\n",
    "    print(\">>> Welcome to Spotipy \" + displayName + \" !\")\n",
    "    print(\">>> You have \" + str(followers) + \" followers.\")\n",
    "    print()\n",
    "    print(\"0 - Search for an artist\")\n",
    "    print(\"1 - exit\")\n",
    "    print()\n",
    "    choice = input(\"Your choice: \")\n",
    "\n",
    "    # Search for the artist\n",
    "    if choice == \"0\":\n",
    "        print(\"0\")\n",
    "        searchQuery = input(\"Ok, what's their name?: \")\n",
    "        print()\n",
    "\n",
    "        # Get search results\n",
    "        searchResults = spotifyObject.search(searchQuery,1,0,\"artist\")\n",
    "        \n",
    "           # Artist details\n",
    "        artist = searchResults['artists']['items'][0]\n",
    "        print(artist['name'])\n",
    "        print(str(artist['followers']['total'])+ \" followers\")\n",
    "        print(artist['genres'][0])\n",
    "        print()\n",
    "        webbrowser.open(artist['images'][0]['url'])\n",
    "\n",
    "\n",
    "\n",
    "    # End the program\n",
    "    if choice == \"1\":\n",
    "        break"
   ]
  },
  {
   "cell_type": "code",
   "execution_count": null,
   "metadata": {},
   "outputs": [],
   "source": []
  }
 ],
 "metadata": {
  "kernelspec": {
   "display_name": "Python 3",
   "language": "python",
   "name": "python3"
  },
  "language_info": {
   "codemirror_mode": {
    "name": "ipython",
    "version": 3
   },
   "file_extension": ".py",
   "mimetype": "text/x-python",
   "name": "python",
   "nbconvert_exporter": "python",
   "pygments_lexer": "ipython3",
   "version": "3.7.3"
  }
 },
 "nbformat": 4,
 "nbformat_minor": 2
}
